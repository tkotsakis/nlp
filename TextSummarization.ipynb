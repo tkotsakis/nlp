{
 "cells": [
  {
   "cell_type": "markdown",
   "metadata": {},
   "source": [
    "# Text Summarization"
   ]
  },
  {
   "cell_type": "code",
   "execution_count": 1,
   "metadata": {},
   "outputs": [],
   "source": [
    "import urllib.request  \n",
    "import bs4 as BeautifulSoup\n",
    "import nltk\n",
    "import re\n",
    "from string import punctuation\n",
    "from nltk.corpus import stopwords\n",
    "from nltk.tokenize import word_tokenize\n",
    "from nltk.tokenize import sent_tokenize \n",
    "from heapq import nlargest"
   ]
  },
  {
   "cell_type": "code",
   "execution_count": null,
   "metadata": {},
   "outputs": [],
   "source": [
    "#nltk.download(\"stopwords\")"
   ]
  },
  {
   "cell_type": "code",
   "execution_count": 2,
   "metadata": {},
   "outputs": [
    {
     "output_type": "stream",
     "name": "stdout",
     "text": [
      "717572 , ﻿The Project Gutenberg EBook of Pride and Prejudice, by Jane ...\n"
     ]
    }
   ],
   "source": [
    "# Find the number links by looking on Project Gutenberg in the address bar for a book.\n",
    "books = {'Pride and Prejudice': '1342'}\n",
    "\n",
    "book = books['Pride and Prejudice']\n",
    "\n",
    "# Load text from Project Gutenberg URL\n",
    "import requests\n",
    "url_template = 'https://www.gutenberg.org/cache/epub/%s/pg%s.txt'\n",
    "\n",
    "response = requests.get(url_template % (book, book), 'r')\n",
    "text = response.text\n",
    "\n",
    "# See the number of characters and the first 60 characters to confirm it is there    \n",
    "print(len(text), ',', text[:60] , '...')"
   ]
  },
  {
   "cell_type": "code",
   "execution_count": 3,
   "metadata": {},
   "outputs": [
    {
     "output_type": "stream",
     "name": "stdout",
     "text": [
      "125897\n"
     ]
    }
   ],
   "source": [
    "import re\n",
    "words = re.split('[^A-Za-z]+', text.lower())\n",
    "words = list(filter(None, words)) # Remove empty strings\n",
    "\n",
    "# Print length of list\n",
    "print(len(words))"
   ]
  },
  {
   "cell_type": "code",
   "execution_count": 4,
   "metadata": {},
   "outputs": [],
   "source": [
    "# Parsing the URL content \n",
    "book_parsed = BeautifulSoup.BeautifulSoup(text,'html.parser')"
   ]
  },
  {
   "cell_type": "code",
   "execution_count": 5,
   "metadata": {},
   "outputs": [],
   "source": [
    "#Pretify our beautiful soup book and get it back as string but easy to be read\n",
    "book = book_parsed.prettify()"
   ]
  },
  {
   "cell_type": "code",
   "execution_count": 6,
   "metadata": {},
   "outputs": [],
   "source": [
    "stop_words = stopwords.words('english')"
   ]
  },
  {
   "cell_type": "code",
   "execution_count": 7,
   "metadata": {},
   "outputs": [],
   "source": [
    "#Function to get chapter from book\n",
    "def getChapter( s, first, last ):\n",
    "    try:\n",
    "        start = s.index( first ) + len( first )\n",
    "        end = s.index( last, start )\n",
    "        return s[start:end]\n",
    "    except ValueError:\n",
    "        return \"\""
   ]
  },
  {
   "cell_type": "code",
   "execution_count": null,
   "metadata": {},
   "outputs": [],
   "source": [
    "#The concept is that we will try to get each chapter,then tokenize the words, find the frequency of each word, build sentences from these rules."
   ]
  },
  {
   "cell_type": "code",
   "execution_count": 9,
   "metadata": {},
   "outputs": [],
   "source": [
    "#Iterate through the book chapters (61) so as to get summary of each chapter.We will store them in a dictionary with key the chapter index and value the chapter content itself.\n",
    "dictChapters={'key': 'value'}\n",
    "\n",
    "for i in range(1,61):\n",
    "    chapter = getChapter(book,\"Chapter \" + str(i),\"Chapter \" + str(i+1))\n",
    "    dictChapters[i] = chapter"
   ]
  },
  {
   "cell_type": "code",
   "execution_count": 11,
   "metadata": {
    "tags": []
   },
   "outputs": [],
   "source": [
    "word_frequencies = {}\n",
    "sentence_scores = {}\n",
    "counter=0\n",
    "sent2score = {}\n",
    "dictSummary={'key': 'value'}\n",
    "\n",
    "for chapter_no,chapter in dictChapters.items():\n",
    "    #print(\"******* Chapter \" + str(chapter_no) + \" *******\")\n",
    "    counter+=1\n",
    "    tokens = word_tokenize(chapter)\n",
    "    punctuation = punctuation + '\\n'\n",
    "    for word in tokens: \n",
    "        #Calculate word frequency   \n",
    "        if word.lower() not in stop_words:\n",
    "            if word.lower() not in punctuation:\n",
    "                if word not in word_frequencies.keys():\n",
    "                    word_frequencies[word] = 1\n",
    "                else:\n",
    "                    word_frequencies[word] += 1\n",
    "    for word in word_frequencies.keys():\n",
    "        word_frequencies[word] = word_frequencies[word]/max(word_frequencies.values())\n",
    "    #Tokenize sentences\n",
    "    sent_token = sent_tokenize(chapter)\n",
    "    for sentence in sent_token:\n",
    "        #Score each sentence\n",
    "        for word in nltk.word_tokenize(sentence.lower()):\n",
    "            if word in word_frequencies.keys():\n",
    "                if len(sentence.split(' ')) < 25:\n",
    "                    if sentence not in sent2score.keys():\n",
    "                        sent2score[sentence] = word_frequencies[word]\n",
    "                    else:\n",
    "                        sent2score[sentence] += word_frequencies[word]\n",
    "\n",
    "    # We will keep the 1/3 as sentence length\n",
    "    select_length = int(len(sent_token)*0.3)\n",
    "\n",
    "    #Use nlargest method (part of heap queue priority algorithm) to get best sentences based on frequency score \n",
    "    summary = nlargest(select_length, sent2score, key = sent2score.get)\n",
    "\n",
    "    #Store each summary to a dictionary for later use\n",
    "    dictSummary[counter] = summary"
   ]
  },
  {
   "cell_type": "code",
   "execution_count": 12,
   "metadata": {
    "tags": [
     "outputPrepend"
    ]
   },
   "outputs": [
    {
     "output_type": "stream",
     "name": "stdout",
     "text": [
      "t, thin sort of inclination, I\\r\\nam convinced that one good sonnet will starve it entirely away.\"', '\"Perhaps,\" said Darcy, \"I should have judged better, had I sought an\\r\\nintroduction; but I am ill-qualified to recommend myself to strangers.\"', '\"Let me first see how he behaves,\" said she; \"it will then be early\\r\\nenough for expectation.\"', '\"And that,\" said Mrs. Reynolds, pointing to another of the miniatures,\\r\\n\"is my master--and very like him.', '\"You are considering how insupportable it would be to pass many evenings\\r\\nin this manner--in such society; and indeed I am quite of your opinion.', '\"That is not an unnatural surmise,\" said Fitzwilliam, \"but it is a\\r\\nlessening of the honour of my cousin\\'s triumph very sadly.\"', '\"To walk three miles, or four miles, or five miles, or whatever it is,\\r\\nabove her ankles in dirt, and alone, quite alone!']\n \n******* Chapter 58 *******\n \n['\"Oh!', '\"Kitty has no discretion in her coughs,\" said her father; \"she times\\r\\nthem ill.\"\\r\\n\\r\\n\"I do not cough for my own amusement,\" replied Kitty fretfully.', \"The rest of the evening was spent in conjecturing how soon he would\\r\\nreturn Mr. Bennet's visit, and determining when they should ask him to\\r\\ndinner.\", 'said Lydia stoutly, \"I am not afraid; for though I _am_ the\\r\\nyoungest, I\\'m the tallest.\"', '\"But I hope you will get over it, and live to see many young men of four\\r\\nthousand a year come into the neighbourhood.\"', '\"Yet it is hard,\" she sometimes thought, \"that this poor man cannot\\r\\ncome to a house which he has legally hired, without raising all this\\r\\nspeculation!', 'She could neither\\r\\nwonder nor condemn, but the belief of his self-conquest brought nothing\\r\\nconsolatory to her bosom, afforded no palliation of her distress.', '\"His being so sure of succeeding was wrong,\" said she, \"and certainly\\r\\nought not to have appeared; but consider how much it must increase his\\r\\ndisappointment!\"', '\"You used us abominably ill,\" answered Mrs. Hurst, \"running away without\\r\\ntelling us that you were coming out.\"', '\"We are not in a way to know _what_ Mr. Bingley likes,\" said her mother\\r\\nresentfully, \"since we are not to visit.\"', '\"No,\" said her father; \"Wickham\\'s a fool if he takes her with a farthing\\r\\nless than ten thousand pounds.', 'Miss Bennet was therefore\\r\\nestablished as a sweet girl, and their brother felt authorized by such\\r\\ncommendation to think of her as he chose.', '\"There is, I believe, in every disposition a tendency to some particular\\r\\nevil--a natural defect, which not even the best education can overcome.\"', 'But no,\"--recollecting\\r\\nherself--\"that could never be; my uncle and aunt would have been lost to\\r\\nme; I should not have been allowed to invite them.\"', '\"That is very true,\" replied Elizabeth, \"and I could easily forgive\\r\\n_his_ pride, if he had not mortified _mine_.\"', '\"In nursing your sister I am sure you have pleasure,\" said Bingley; \"and\\r\\nI hope it will be soon increased by seeing her quite well.\"', '\"He is, indeed; but, considering the inducement, my dear Miss Eliza,\\r\\nwe cannot wonder at his complaisance--for who would object to such a\\r\\npartner?\"', '\"Were it certain that Lady Catherine would think so,\" said Mr. Collins\\r\\nvery gravely--\"but I cannot imagine that her ladyship would at all\\r\\ndisapprove of you.', '\"It will be no use to us, if twenty such should come, since you will not\\r\\nvisit them.\"', '\"It would not be easy, indeed, to catch their expression, but their\\r\\ncolour and shape, and the eyelashes, so remarkably fine, might be\\r\\ncopied.\"', '\"Undoubtedly,\" replied Darcy, to whom this remark was chiefly addressed,\\r\\n\"there is a meanness in _all_ the arts which ladies sometimes condescend\\r\\nto employ for captivation.', 'And when\\r\\nthe party entered the assembly room it consisted of only five\\r\\naltogether--Mr. Bingley, his two sisters, the husband of the eldest, and\\r\\nanother young man.', '\"But if you have got them to-day,\" said Elizabeth, \"my mother\\'s purpose\\r\\nwill be answered.\"']\n \n******* Chapter 59 *******\n \n['\"Oh!', '\"Kitty has no discretion in her coughs,\" said her father; \"she times\\r\\nthem ill.\"\\r\\n\\r\\n\"I do not cough for my own amusement,\" replied Kitty fretfully.', \"The rest of the evening was spent in conjecturing how soon he would\\r\\nreturn Mr. Bennet's visit, and determining when they should ask him to\\r\\ndinner.\", 'said Lydia stoutly, \"I am not afraid; for though I _am_ the\\r\\nyoungest, I\\'m the tallest.\"', '\"But I hope you will get over it, and live to see many young men of four\\r\\nthousand a year come into the neighbourhood.\"', '\"Yet it is hard,\" she sometimes thought, \"that this poor man cannot\\r\\ncome to a house which he has legally hired, without raising all this\\r\\nspeculation!', 'She could neither\\r\\nwonder nor condemn, but the belief of his self-conquest brought nothing\\r\\nconsolatory to her bosom, afforded no palliation of her distress.', '\"His being so sure of succeeding was wrong,\" said she, \"and certainly\\r\\nought not to have appeared; but consider how much it must increase his\\r\\ndisappointment!\"', '\"You used us abominably ill,\" answered Mrs. Hurst, \"running away without\\r\\ntelling us that you were coming out.\"', '\"We are not in a way to know _what_ Mr. Bingley likes,\" said her mother\\r\\nresentfully, \"since we are not to visit.\"', '\"No,\" said her father; \"Wickham\\'s a fool if he takes her with a farthing\\r\\nless than ten thousand pounds.', 'Miss Bennet was therefore\\r\\nestablished as a sweet girl, and their brother felt authorized by such\\r\\ncommendation to think of her as he chose.', '\"There is, I believe, in every disposition a tendency to some particular\\r\\nevil--a natural defect, which not even the best education can overcome.\"', 'But no,\"--recollecting\\r\\nherself--\"that could never be; my uncle and aunt would have been lost to\\r\\nme; I should not have been allowed to invite them.\"', '\"That is very true,\" replied Elizabeth, \"and I could easily forgive\\r\\n_his_ pride, if he had not mortified _mine_.\"', '\"In nursing your sister I am sure you have pleasure,\" said Bingley; \"and\\r\\nI hope it will be soon increased by seeing her quite well.\"', '\"He is, indeed; but, considering the inducement, my dear Miss Eliza,\\r\\nwe cannot wonder at his complaisance--for who would object to such a\\r\\npartner?\"', '\"Were it certain that Lady Catherine would think so,\" said Mr. Collins\\r\\nvery gravely--\"but I cannot imagine that her ladyship would at all\\r\\ndisapprove of you.', '\"It will be no use to us, if twenty such should come, since you will not\\r\\nvisit them.\"', '\"It would not be easy, indeed, to catch their expression, but their\\r\\ncolour and shape, and the eyelashes, so remarkably fine, might be\\r\\ncopied.\"', '\"Undoubtedly,\" replied Darcy, to whom this remark was chiefly addressed,\\r\\n\"there is a meanness in _all_ the arts which ladies sometimes condescend\\r\\nto employ for captivation.', 'And when\\r\\nthe party entered the assembly room it consisted of only five\\r\\naltogether--Mr. Bingley, his two sisters, the husband of the eldest, and\\r\\nanother young man.', '\"But if you have got them to-day,\" said Elizabeth, \"my mother\\'s purpose\\r\\nwill be answered.\"', '\"It was the prospect of constant society, and good society,\" he added,\\r\\n\"which was my chief inducement to enter the ----shire.', '\"What you ask,\" said Elizabeth, \"is no sacrifice on my side; and Mr.\\r\\nDarcy had much better finish his letter.\"', '\"But surely,\" said she, \"I may enter his county with impunity,\\r\\nand rob it of a few petrified spars without his perceiving me.\"', 'To be\\r\\nsure that _did_ seem as if he admired her--indeed I rather believe he\\r\\n_did_--I heard something about it--but I hardly know what--something\\r\\nabout Mr.', '\"The garden in which stands my humble abode is separated only by a lane\\r\\nfrom Rosings Park, her ladyship\\'s residence.\"', 'My brother and the\\r\\ngentlemen are to dine with the officers.--Yours ever,\\r\\n\\r\\n\"CAROLINE BINGLEY\"\\r\\n\\r\\n\"With the officers!\"', '\"You are very cruel,\" said her sister, \"you will not let me smile, and\\r\\nare provoking me to it every moment.\"', 'One may be continually\\r\\nabusive without saying anything just; but one cannot always be laughing\\r\\nat a man without now and then stumbling on something witty.\"', 'I have been meditating on the very great pleasure\\r\\nwhich a pair of fine eyes in the face of a pretty woman can bestow.\"', '\"His pride,\" said Miss Lucas, \"does not offend _me_ so much as pride\\r\\noften does, because there is an excuse for it.', '\"Oh!\"', '\"I deserve neither such praise nor such censure,\" cried Elizabeth; \"I am\\r\\n_not_ a great reader, and I have pleasure in many things.\"', '\"Pride,\" observed Mary, who piqued herself upon the solidity of her\\r\\nreflections, \"is a very common failing, I believe.', '\"Why, if he came only to be silent, grave, and indifferent,\" said she,\\r\\n\"did he come at all?\"', '\"My fingers,\" said Elizabeth, \"do not move over this instrument in the\\r\\nmasterly manner which I see so many women\\'s do.', \"As\\r\\nsoon as Jane had read Mr. Gardiner's hope of Lydia's being soon\\r\\nmarried, her joy burst forth, and every following sentence added to its\\r\\nexuberance.\", 'I have seen them both--\"\\r\\n\\r\\n\"Then it is as I always hoped,\" cried Jane; \"they are married!\"', '\"If we make haste,\" said Lydia, as they walked along, \"perhaps we may\\r\\nsee something of Captain Carter before he goes.\"']\n \n******* Chapter 60 *******\n \n['\"Oh!', '\"Kitty has no discretion in her coughs,\" said her father; \"she times\\r\\nthem ill.\"\\r\\n\\r\\n\"I do not cough for my own amusement,\" replied Kitty fretfully.', \"The rest of the evening was spent in conjecturing how soon he would\\r\\nreturn Mr. Bennet's visit, and determining when they should ask him to\\r\\ndinner.\", 'said Lydia stoutly, \"I am not afraid; for though I _am_ the\\r\\nyoungest, I\\'m the tallest.\"', '\"But I hope you will get over it, and live to see many young men of four\\r\\nthousand a year come into the neighbourhood.\"', '\"Yet it is hard,\" she sometimes thought, \"that this poor man cannot\\r\\ncome to a house which he has legally hired, without raising all this\\r\\nspeculation!', 'She could neither\\r\\nwonder nor condemn, but the belief of his self-conquest brought nothing\\r\\nconsolatory to her bosom, afforded no palliation of her distress.', '\"His being so sure of succeeding was wrong,\" said she, \"and certainly\\r\\nought not to have appeared; but consider how much it must increase his\\r\\ndisappointment!\"', '\"You used us abominably ill,\" answered Mrs. Hurst, \"running away without\\r\\ntelling us that you were coming out.\"', '\"We are not in a way to know _what_ Mr. Bingley likes,\" said her mother\\r\\nresentfully, \"since we are not to visit.\"', '\"No,\" said her father; \"Wickham\\'s a fool if he takes her with a farthing\\r\\nless than ten thousand pounds.', 'Miss Bennet was therefore\\r\\nestablished as a sweet girl, and their brother felt authorized by such\\r\\ncommendation to think of her as he chose.', '\"There is, I believe, in every disposition a tendency to some particular\\r\\nevil--a natural defect, which not even the best education can overcome.\"', 'But no,\"--recollecting\\r\\nherself--\"that could never be; my uncle and aunt would have been lost to\\r\\nme; I should not have been allowed to invite them.\"', '\"That is very true,\" replied Elizabeth, \"and I could easily forgive\\r\\n_his_ pride, if he had not mortified _mine_.\"', '\"In nursing your sister I am sure you have pleasure,\" said Bingley; \"and\\r\\nI hope it will be soon increased by seeing her quite well.\"', '\"He is, indeed; but, considering the inducement, my dear Miss Eliza,\\r\\nwe cannot wonder at his complaisance--for who would object to such a\\r\\npartner?\"', '\"Were it certain that Lady Catherine would think so,\" said Mr. Collins\\r\\nvery gravely--\"but I cannot imagine that her ladyship would at all\\r\\ndisapprove of you.', '\"It will be no use to us, if twenty such should come, since you will not\\r\\nvisit them.\"', '\"It would not be easy, indeed, to catch their expression, but their\\r\\ncolour and shape, and the eyelashes, so remarkably fine, might be\\r\\ncopied.\"', '\"Undoubtedly,\" replied Darcy, to whom this remark was chiefly addressed,\\r\\n\"there is a meanness in _all_ the arts which ladies sometimes condescend\\r\\nto employ for captivation.', 'And when\\r\\nthe party entered the assembly room it consisted of only five\\r\\naltogether--Mr. Bingley, his two sisters, the husband of the eldest, and\\r\\nanother young man.', '\"But if you have got them to-day,\" said Elizabeth, \"my mother\\'s purpose\\r\\nwill be answered.\"', '\"It was the prospect of constant society, and good society,\" he added,\\r\\n\"which was my chief inducement to enter the ----shire.', '\"What you ask,\" said Elizabeth, \"is no sacrifice on my side; and Mr.\\r\\nDarcy had much better finish his letter.\"', '\"But surely,\" said she, \"I may enter his county with impunity,\\r\\nand rob it of a few petrified spars without his perceiving me.\"', 'To be\\r\\nsure that _did_ seem as if he admired her--indeed I rather believe he\\r\\n_did_--I heard something about it--but I hardly know what--something\\r\\nabout Mr.', '\"The garden in which stands my humble abode is separated only by a lane\\r\\nfrom Rosings Park, her ladyship\\'s residence.\"', 'My brother and the\\r\\ngentlemen are to dine with the officers.--Yours ever,\\r\\n\\r\\n\"CAROLINE BINGLEY\"\\r\\n\\r\\n\"With the officers!\"', '\"You are very cruel,\" said her sister, \"you will not let me smile, and\\r\\nare provoking me to it every moment.\"', 'One may be continually\\r\\nabusive without saying anything just; but one cannot always be laughing\\r\\nat a man without now and then stumbling on something witty.\"', 'I have been meditating on the very great pleasure\\r\\nwhich a pair of fine eyes in the face of a pretty woman can bestow.\"', '\"His pride,\" said Miss Lucas, \"does not offend _me_ so much as pride\\r\\noften does, because there is an excuse for it.', '\"Oh!\"', '\"I deserve neither such praise nor such censure,\" cried Elizabeth; \"I am\\r\\n_not_ a great reader, and I have pleasure in many things.\"', '\"Pride,\" observed Mary, who piqued herself upon the solidity of her\\r\\nreflections, \"is a very common failing, I believe.', '\"Why, if he came only to be silent, grave, and indifferent,\" said she,\\r\\n\"did he come at all?\"', '\"My fingers,\" said Elizabeth, \"do not move over this instrument in the\\r\\nmasterly manner which I see so many women\\'s do.', \"As\\r\\nsoon as Jane had read Mr. Gardiner's hope of Lydia's being soon\\r\\nmarried, her joy burst forth, and every following sentence added to its\\r\\nexuberance.\", 'I have seen them both--\"\\r\\n\\r\\n\"Then it is as I always hoped,\" cried Jane; \"they are married!\"', '\"If we make haste,\" said Lydia, as they walked along, \"perhaps we may\\r\\nsee something of Captain Carter before he goes.\"', '\"And\\r\\npray, may I ask?--\" But checking himself, he added, in a gayer tone, \"Is\\r\\nit in address that he improves?', '\"Read it aloud,\" said their father, \"for I hardly know myself what it is\\r\\nabout.\"', '\"My aunt,\" she continued, \"is going to-morrow into that part of the\\r\\ntown, and I shall take the opportunity of calling in Grosvenor Street.\"', '\"If he does not come to me, _then_,\" said she, \"I shall give him up for\\r\\never.\"', '\"Did you speak from your own observation,\" said she, \"when you told him\\r\\nthat my sister loved him, or merely from my information last spring?\"', '\"But you see that Jane,\" said her aunt, \"does not think so very ill of\\r\\nWickham as to believe him capable of the attempt.\"', 'The\\r\\nvenison was roasted to a turn--and everybody said they never saw so\\r\\nfat a haunch.', '\"But you forget, mamma,\" said Elizabeth, \"that we shall meet him at the\\r\\nassemblies, and that Mrs. Long promised to introduce him.\"', '\"Then,\" observed Elizabeth, \"you must comprehend a great deal in your\\r\\nidea of an accomplished woman.\"', \"Mr. Wickham's society was of material service in dispelling the gloom\\r\\nwhich the late perverse occurrences had thrown on many of the Longbourn\\r\\nfamily.\", \"Catherine, weak-spirited,\\r\\nirritable, and completely under Lydia's guidance, had been always\\r\\naffronted by their advice; and Lydia, self-willed and careless, would\\r\\nscarcely give them a hearing.\", 'But if it be only a slight, thin sort of inclination, I\\r\\nam convinced that one good sonnet will starve it entirely away.\"']\n \n******* Chapter 61 *******\n \n['\"Oh!', '\"Kitty has no discretion in her coughs,\" said her father; \"she times\\r\\nthem ill.\"\\r\\n\\r\\n\"I do not cough for my own amusement,\" replied Kitty fretfully.', \"The rest of the evening was spent in conjecturing how soon he would\\r\\nreturn Mr. Bennet's visit, and determining when they should ask him to\\r\\ndinner.\", 'said Lydia stoutly, \"I am not afraid; for though I _am_ the\\r\\nyoungest, I\\'m the tallest.\"', '\"But I hope you will get over it, and live to see many young men of four\\r\\nthousand a year come into the neighbourhood.\"', '\"Yet it is hard,\" she sometimes thought, \"that this poor man cannot\\r\\ncome to a house which he has legally hired, without raising all this\\r\\nspeculation!', 'She could neither\\r\\nwonder nor condemn, but the belief of his self-conquest brought nothing\\r\\nconsolatory to her bosom, afforded no palliation of her distress.', '\"His being so sure of succeeding was wrong,\" said she, \"and certainly\\r\\nought not to have appeared; but consider how much it must increase his\\r\\ndisappointment!\"', '\"You used us abominably ill,\" answered Mrs. Hurst, \"running away without\\r\\ntelling us that you were coming out.\"', '\"We are not in a way to know _what_ Mr. Bingley likes,\" said her mother\\r\\nresentfully, \"since we are not to visit.\"', '\"No,\" said her father; \"Wickham\\'s a fool if he takes her with a farthing\\r\\nless than ten thousand pounds.', 'Miss Bennet was therefore\\r\\nestablished as a sweet girl, and their brother felt authorized by such\\r\\ncommendation to think of her as he chose.', '\"There is, I believe, in every disposition a tendency to some particular\\r\\nevil--a natural defect, which not even the best education can overcome.\"', 'But no,\"--recollecting\\r\\nherself--\"that could never be; my uncle and aunt would have been lost to\\r\\nme; I should not have been allowed to invite them.\"', '\"That is very true,\" replied Elizabeth, \"and I could easily forgive\\r\\n_his_ pride, if he had not mortified _mine_.\"', '\"In nursing your sister I am sure you have pleasure,\" said Bingley; \"and\\r\\nI hope it will be soon increased by seeing her quite well.\"', '\"He is, indeed; but, considering the inducement, my dear Miss Eliza,\\r\\nwe cannot wonder at his complaisance--for who would object to such a\\r\\npartner?\"', '\"Were it certain that Lady Catherine would think so,\" said Mr. Collins\\r\\nvery gravely--\"but I cannot imagine that her ladyship would at all\\r\\ndisapprove of you.', '\"It will be no use to us, if twenty such should come, since you will not\\r\\nvisit them.\"', '\"It would not be easy, indeed, to catch their expression, but their\\r\\ncolour and shape, and the eyelashes, so remarkably fine, might be\\r\\ncopied.\"', '\"Undoubtedly,\" replied Darcy, to whom this remark was chiefly addressed,\\r\\n\"there is a meanness in _all_ the arts which ladies sometimes condescend\\r\\nto employ for captivation.', 'And when\\r\\nthe party entered the assembly room it consisted of only five\\r\\naltogether--Mr. Bingley, his two sisters, the husband of the eldest, and\\r\\nanother young man.', '\"But if you have got them to-day,\" said Elizabeth, \"my mother\\'s purpose\\r\\nwill be answered.\"', '\"It was the prospect of constant society, and good society,\" he added,\\r\\n\"which was my chief inducement to enter the ----shire.', '\"What you ask,\" said Elizabeth, \"is no sacrifice on my side; and Mr.\\r\\nDarcy had much better finish his letter.\"', '\"But surely,\" said she, \"I may enter his county with impunity,\\r\\nand rob it of a few petrified spars without his perceiving me.\"', 'To be\\r\\nsure that _did_ seem as if he admired her--indeed I rather believe he\\r\\n_did_--I heard something about it--but I hardly know what--something\\r\\nabout Mr.']\n \n"
     ]
    }
   ],
   "source": [
    "#Get all summary chapters one by one\n",
    "for chapter,summ in dictSummary.items():\n",
    "    print(\"******* Chapter \" + str(chapter) + \" *******\")\n",
    "    print(\" \")\n",
    "    print(summ)\n",
    "    print(\" \")"
   ]
  },
  {
   "cell_type": "code",
   "execution_count": 13,
   "metadata": {},
   "outputs": [
    {
     "output_type": "execute_result",
     "data": {
      "text/plain": [
       "['\"Kitty has no discretion in her coughs,\" said her father; \"she times\\r\\nthem ill.\"\\r\\n\\r\\n\"I do not cough for my own amusement,\" replied Kitty fretfully.',\n",
       " \"The rest of the evening was spent in conjecturing how soon he would\\r\\nreturn Mr. Bennet's visit, and determining when they should ask him to\\r\\ndinner.\",\n",
       " 'said Lydia stoutly, \"I am not afraid; for though I _am_ the\\r\\nyoungest, I\\'m the tallest.\"',\n",
       " '\"But I hope you will get over it, and live to see many young men of four\\r\\nthousand a year come into the neighbourhood.\"',\n",
       " '\"We are not in a way to know _what_ Mr. Bingley likes,\" said her mother\\r\\nresentfully, \"since we are not to visit.\"',\n",
       " 'Miss Bennet was therefore\\r\\nestablished as a sweet girl, and their brother felt authorized by such\\r\\ncommendation to think of her as he chose.',\n",
       " '\"That is very true,\" replied Elizabeth, \"and I could easily forgive\\r\\n_his_ pride, if he had not mortified _mine_.\"',\n",
       " '\"He is, indeed; but, considering the inducement, my dear Miss Eliza,\\r\\nwe cannot wonder at his complaisance--for who would object to such a\\r\\npartner?\"',\n",
       " '\"It will be no use to us, if twenty such should come, since you will not\\r\\nvisit them.\"',\n",
       " 'And when\\r\\nthe party entered the assembly room it consisted of only five\\r\\naltogether--Mr. Bingley, his two sisters, the husband of the eldest, and\\r\\nanother young man.',\n",
       " 'To be\\r\\nsure that _did_ seem as if he admired her--indeed I rather believe he\\r\\n_did_--I heard something about it--but I hardly know what--something\\r\\nabout Mr.',\n",
       " 'I have been meditating on the very great pleasure\\r\\nwhich a pair of fine eyes in the face of a pretty woman can bestow.\"',\n",
       " '\"His pride,\" said Miss Lucas, \"does not offend _me_ so much as pride\\r\\noften does, because there is an excuse for it.',\n",
       " '\"Pride,\" observed Mary, who piqued herself upon the solidity of her\\r\\nreflections, \"is a very common failing, I believe.',\n",
       " '\"But you forget, mamma,\" said Elizabeth, \"that we shall meet him at the\\r\\nassemblies, and that Mrs. Long promised to introduce him.\"',\n",
       " '\"You are considering how insupportable it would be to pass many evenings\\r\\nin this manner--in such society; and indeed I am quite of your opinion.',\n",
       " 'Lydia, my love, though you _are_\\r\\nthe youngest, I dare say Mr. Bingley will dance with you at the next\\r\\nball.\"',\n",
       " 'The business of her life was to get her\\r\\ndaughters married; its solace was visiting and news.',\n",
       " '\"Another time, Lizzy,\" said her mother, \"I would not dance with _him_,\\r\\nif I were you.\"',\n",
       " 'I dare say the lace upon Mrs.\\r\\nHurst\\'s gown--\"\\r\\n\\r\\nHere she was interrupted again.',\n",
       " \"A lady's\\r\\nimagination is very rapid; it jumps from admiration to love, from love\\r\\nto matrimony, in a moment.\",\n",
       " 'For you are a young lady of deep reflection, I know, and read\\r\\ngreat books and make extracts.\"',\n",
       " 'She was a woman of mean understanding,\\r\\nlittle information, and uncertain temper.',\n",
       " 'I would keep a pack of\\r\\nfoxhounds, and drink a bottle of wine a day.\"',\n",
       " '\"My dear Mr. Bennet,\" said his lady to him one day, \"have you heard that\\r\\nNetherfield Park is let at last?\"',\n",
       " '\"In such cases, a woman has not often much beauty to think of.\"',\n",
       " '\"While Mary is adjusting her ideas,\" he continued, \"let us return to Mr.',\n",
       " '\"I do not mind his not talking to Mrs. Long,\" said Miss Lucas, \"but I\\r\\nwish he had danced with Eliza.\"',\n",
       " '\"No more have I,\" said Mr. Bennet; \"and I am glad to find that you do\\r\\nnot depend on her serving you.\"',\n",
       " 'The insipidity, and yet the noise--the\\r\\nnothingness, and yet the self-importance of all those people!',\n",
       " 'and it is such a\\r\\ngood joke, too, that you should have gone this morning and never said a\\r\\nword about it till now.\"',\n",
       " '\"Miss Bingley told me,\" said Jane, \"that he never speaks much,\\r\\nunless among his intimate acquaintances.',\n",
       " '\"He is also handsome,\" replied Elizabeth, \"which a young man ought\\r\\nlikewise to be, if he possibly can.']"
      ]
     },
     "metadata": {},
     "execution_count": 13
    }
   ],
   "source": [
    "#Retrieve summary by providing the chapter number to dictSummary dictionary (Example Summary of Chapter 7)\n",
    "dictSummary[7]"
   ]
  },
  {
   "cell_type": "code",
   "execution_count": 14,
   "metadata": {},
   "outputs": [
    {
     "output_type": "execute_result",
     "data": {
      "text/plain": [
       "['\"Oh!',\n",
       " '\"Kitty has no discretion in her coughs,\" said her father; \"she times\\r\\nthem ill.\"\\r\\n\\r\\n\"I do not cough for my own amusement,\" replied Kitty fretfully.',\n",
       " \"The rest of the evening was spent in conjecturing how soon he would\\r\\nreturn Mr. Bennet's visit, and determining when they should ask him to\\r\\ndinner.\",\n",
       " 'said Lydia stoutly, \"I am not afraid; for though I _am_ the\\r\\nyoungest, I\\'m the tallest.\"',\n",
       " '\"But I hope you will get over it, and live to see many young men of four\\r\\nthousand a year come into the neighbourhood.\"',\n",
       " '\"You used us abominably ill,\" answered Mrs. Hurst, \"running away without\\r\\ntelling us that you were coming out.\"',\n",
       " '\"We are not in a way to know _what_ Mr. Bingley likes,\" said her mother\\r\\nresentfully, \"since we are not to visit.\"',\n",
       " 'Miss Bennet was therefore\\r\\nestablished as a sweet girl, and their brother felt authorized by such\\r\\ncommendation to think of her as he chose.',\n",
       " '\"There is, I believe, in every disposition a tendency to some particular\\r\\nevil--a natural defect, which not even the best education can overcome.\"',\n",
       " '\"That is very true,\" replied Elizabeth, \"and I could easily forgive\\r\\n_his_ pride, if he had not mortified _mine_.\"',\n",
       " '\"In nursing your sister I am sure you have pleasure,\" said Bingley; \"and\\r\\nI hope it will be soon increased by seeing her quite well.\"',\n",
       " '\"He is, indeed; but, considering the inducement, my dear Miss Eliza,\\r\\nwe cannot wonder at his complaisance--for who would object to such a\\r\\npartner?\"',\n",
       " '\"Were it certain that Lady Catherine would think so,\" said Mr. Collins\\r\\nvery gravely--\"but I cannot imagine that her ladyship would at all\\r\\ndisapprove of you.',\n",
       " '\"It will be no use to us, if twenty such should come, since you will not\\r\\nvisit them.\"',\n",
       " '\"It would not be easy, indeed, to catch their expression, but their\\r\\ncolour and shape, and the eyelashes, so remarkably fine, might be\\r\\ncopied.\"',\n",
       " '\"Undoubtedly,\" replied Darcy, to whom this remark was chiefly addressed,\\r\\n\"there is a meanness in _all_ the arts which ladies sometimes condescend\\r\\nto employ for captivation.',\n",
       " 'And when\\r\\nthe party entered the assembly room it consisted of only five\\r\\naltogether--Mr. Bingley, his two sisters, the husband of the eldest, and\\r\\nanother young man.',\n",
       " '\"But if you have got them to-day,\" said Elizabeth, \"my mother\\'s purpose\\r\\nwill be answered.\"']"
      ]
     },
     "metadata": {},
     "execution_count": 14
    }
   ],
   "source": [
    "#Summary of Chapter 23\n",
    "dictSummary[23]"
   ]
  },
  {
   "cell_type": "code",
   "execution_count": null,
   "metadata": {},
   "outputs": [],
   "source": []
  }
 ],
 "metadata": {
  "kernelspec": {
   "name": "python3",
   "display_name": "Python 3.8.6 64-bit"
  },
  "language_info": {
   "codemirror_mode": {
    "name": "ipython",
    "version": 3
   },
   "file_extension": ".py",
   "mimetype": "text/x-python",
   "name": "python",
   "nbconvert_exporter": "python",
   "pygments_lexer": "ipython3",
   "version": "3.8.6"
  },
  "interpreter": {
   "hash": "2db524e06e9f5f4ffedc911c917cb75e12dbc923643829bf417064a77eb14d37"
  }
 },
 "nbformat": 4,
 "nbformat_minor": 4
}